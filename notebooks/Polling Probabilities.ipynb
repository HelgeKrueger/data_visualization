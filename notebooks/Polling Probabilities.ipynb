{
 "cells": [
  {
   "cell_type": "code",
   "execution_count": 1,
   "metadata": {},
   "outputs": [
    {
     "name": "stdout",
     "output_type": "stream",
     "text": [
      "Populating the interactive namespace from numpy and matplotlib\n"
     ]
    }
   ],
   "source": [
    "import math\n",
    "import numpy as np\n",
    "import scipy.special\n",
    "\n",
    "import seaborn as sb\n",
    "\n",
    "%pylab inline"
   ]
  },
  {
   "cell_type": "markdown",
   "metadata": {},
   "source": [
    "# Understanding polls\n",
    "\n",
    "These are just some computations attempting to understand the limitations of polls.\n",
    "\n",
    "My understanding is that pollster do all kinds of advanced stuff. The computations here are just very basic using the simplest assumptions."
   ]
  },
  {
   "cell_type": "markdown",
   "metadata": {},
   "source": [
    "## Polling a yes or no question\n",
    "\n",
    "Let's start with polling a simple yes or no question, e.g. \n",
    "- Do you agree with \"statement X\"?\n",
    "- Do you like this?\n",
    "\n",
    "We will discuss how to model this question. For this we use random variables, which we denote by $X_1, X_2, ...$, which take values in $\\{0, 1\\}$. As we are modelling an infinitely large population, we consider these independently identically distributed random variables, i.e.\n",
    "$$\n",
    "\\mathbb{P}(X_j = 1) = p,\\qquad\n",
    "\\mathbb{P}(X_j = 0) = 1 - p.\n",
    "$$\n",
    "If we have a sample size of $N$, the probability of having $\\ell$ of the random variables being $1$ is\n",
    "$$\n",
    "\\mathbb{P}(\\text{$\\ell$ random variables are 1}) = \\binom{N}{\\ell} p^{\\ell} (1-p)^{N-\\ell}\n",
    "$$\n",
    "Here $\\binom{N}{\\ell} = \\frac{N!}{\\ell! (N-\\ell)!}$ is the binomial coefficient, representing the number of subsets with $\\ell$ elements of an $N$ element set."
   ]
  },
  {
   "cell_type": "code",
   "execution_count": 2,
   "metadata": {},
   "outputs": [
    {
     "data": {
      "text/plain": [
       "<matplotlib.axes._subplots.AxesSubplot at 0x7fbf0d2c79e8>"
      ]
     },
     "execution_count": 2,
     "metadata": {},
     "output_type": "execute_result"
    },
    {
     "data": {
      "image/png": "[encoded data removed]",
      "text/plain": [
       "<Figure size 432x288 with 1 Axes>"
      ]
     },
     "metadata": {
      "needs_background": "light"
     },
     "output_type": "display_data"
    }
   ],
   "source": [
    "p = 0.3\n",
    "N = 10\n",
    "Q = lambda l: scipy.special.binom(N, l) * p ** l * (1-p) ** (N-l)\n",
    "\n",
    "xs = [x for x in range(0, N)]\n",
    "ys = [Q(l) for l in xs]\n",
    "\n",
    "sb.barplot(x=[x/N for x in xs], y=ys)"
   ]
  },
  {
   "cell_type": "markdown",
   "metadata": {},
   "source": [
    "### Probability of poll having a certain value\n",
    "Let's denote\n",
    "$$\n",
    "Q(\\ell) = \\binom{N}{\\ell} p^{\\ell} (1-p)^{N-\\ell}\n",
    "$$\n",
    "Now, we wish to estimate the probability of a poll asking $N$ people to have a value between $q - \\epsilon$ and $q + \\epsilon$. The value of the pool, would of course be\n",
    "$$\n",
    "Y_N = \\frac{1}{N} \\sum_{j=1}^{N} X_j\n",
    "$$\n",
    "This value is between $q - \\epsilon$ and $q + \\epsilon$, if between $\\ell_- = N (q - \\epsilon)$ and $\\ell_+ = N (q + \\epsilon)$ random variables are $1$. From this we obtain that\n",
    "$$\n",
    " \\mathbb{P}(Y_N \\in (q-\\epsilon, q+\\epsilon)) =\n",
    " \\sum_{\\ell \\in (\\ell_-, \\ell_+)} Q(\\ell)\n",
    "$$\n",
    "Given that pools are usually integer percents, we would have $q \\in \\{0, 0.01, 0.02, \\dots, 0.99, 1\\}$ and $\\epsilon = 0.05$."
   ]
  },
  {
   "cell_type": "code",
   "execution_count": 3,
   "metadata": {},
   "outputs": [
    {
     "name": "stdout",
     "output_type": "stream",
     "text": [
      "check probability 1.000000000000548\n",
      "check expectation 20.05000000001093\n",
      "check standard deviation 1.685000000001061\n"
     ]
    },
    {
     "data": {
      "text/plain": [
       "<matplotlib.axes._subplots.AxesSubplot at 0x7fbf0d2c7278>"
      ]
     },
     "execution_count": 3,
     "metadata": {},
     "output_type": "execute_result"
    },
    {
     "data": {
      "image/png": "[encoded data removed]",
      "text/plain": [
       "<Figure size 432x288 with 1 Axes>"
      ]
     },
     "metadata": {
      "needs_background": "light"
     },
     "output_type": "display_data"
    }
   ],
   "source": [
    "def probability_of_percent(percent, p=0.2, N=1000):\n",
    "    l_min = np.max([0, math.ceil((percent - 0.5)/100 * N)])\n",
    "    l_max = np.min([N, math.floor((percent + 0.5)/100 * N)])\n",
    "    \n",
    "    Q = lambda l: scipy.special.binom(N, l) * p ** l * (1-p) ** (N-l)\n",
    "\n",
    "    return np.sum([Q(l) for l in range(l_min, l_max)])    \n",
    "    \n",
    "def evaluate_function(func, percent=0.2, N=1000):\n",
    "    return np.sum([probability_of_percent(p, p=percent, N=N) * func(p) for p in range(0,101)])\n",
    "\n",
    "print(\"check probability\", evaluate_function(lambda x: 1))\n",
    "print(\"check expectation\", evaluate_function(lambda x: x))\n",
    "print(\"check standard deviation\", evaluate_function(lambda x: (x - 20)**2))\n",
    "\n",
    "xs = [x for x in range(10, 31)]\n",
    "ys = [probability_of_percent(x) for x in xs]\n",
    "\n",
    "sb.barplot(x=xs, y=ys)"
   ]
  },
  {
   "cell_type": "markdown",
   "metadata": {},
   "source": [
    "### Determining how likely a value is\n",
    "\n",
    "We will now look at the probability that given the original probability $p$, how likely each outcome is."
   ]
  },
  {
   "cell_type": "code",
   "execution_count": 6,
   "metadata": {},
   "outputs": [
    {
     "data": {
      "text/plain": [
       "<matplotlib.axes._subplots.AxesSubplot at 0x7fbed66c5160>"
      ]
     },
     "execution_count": 6,
     "metadata": {},
     "output_type": "execute_result"
    },
    {
     "data": {
      "image/png": "[encoded data removed]",
      "text/plain": [
       "<Figure size 432x288 with 1 Axes>"
      ]
     },
     "metadata": {
      "needs_background": "light"
     },
     "output_type": "display_data"
    }
   ],
   "source": [
    "xs = [p for p in range(0, 101)]\n",
    "ys = [probability_of_percent(p, p=p/100) for p in xs]\n",
    "\n",
    "sb.barplot(x=xs, y=ys)"
   ]
  },
  {
   "cell_type": "code",
   "execution_count": 7,
   "metadata": {},
   "outputs": [
    {
     "data": {
      "text/plain": [
       "<matplotlib.axes._subplots.AxesSubplot at 0x7fbed6645b70>"
      ]
     },
     "execution_count": 7,
     "metadata": {},
     "output_type": "execute_result"
    },
    {
     "data": {
      "image/png": "[encoded data removed]",
      "text/plain": [
       "<Figure size 432x288 with 1 Axes>"
      ]
     },
     "metadata": {
      "needs_background": "light"
     },
     "output_type": "display_data"
    }
   ],
   "source": [
    "def probability_in_range(start, end, p=0.02):\n",
    "    rr = range(start, end+1)\n",
    "    return np.sum([probability_of_percent(l, p=p) for l in rr])\n",
    "\n",
    "xs = [p for p in range(0, 101)]\n",
    "ys = [probability_in_range(p-1, p+1, p=p/100) for p in xs]\n",
    "\n",
    "sb.barplot(x=xs, y=ys)"
   ]
  },
  {
   "cell_type": "markdown",
   "metadata": {},
   "source": [
    "We can now look at the probability of being outside the range percent. So we see below that the probability of having a value deviating more than 5 is likely."
   ]
  },
  {
   "cell_type": "code",
   "execution_count": 15,
   "metadata": {},
   "outputs": [
    {
     "name": "stdout",
     "output_type": "stream",
     "text": [
      "0 probability of not taking value 75.19675563996155 percent\n",
      "1 probability of not taking value 34.30270155608313 percent\n",
      "2 probability of not taking value 11.39819039222597 percent\n",
      "3 probability of not taking value 2.688338166313742 percent\n",
      "4 probability of not taking value 0.44228809608529707 percent\n",
      "5 probability of not taking value 0.05014310530457866 percent\n",
      "6 probability of not taking value 0.004317124740915723 percent\n",
      "7 probability of not taking value 0.004317124740937928 percent\n",
      "8 probability of not taking value 0.004317124740915723 percent\n",
      "9 probability of not taking value 0.004317124740915723 percent\n"
     ]
    }
   ],
   "source": [
    "xs = [p for p in range(0, 100)]\n",
    "diff = lambda k: np.max([1 - probability_in_range(p-k, p+k, p=p/100) for p in xs])\n",
    "\n",
    "for k in range(0, 10):\n",
    "    print(k, \"probability of not taking value\", diff(k) * 100, \"percent\")"
   ]
  },
  {
   "cell_type": "code",
   "execution_count": 12,
   "metadata": {},
   "outputs": [
    {
     "data": {
      "text/plain": [
       "<matplotlib.axes._subplots.AxesSubplot at 0x7fbed50108d0>"
      ]
     },
     "execution_count": 12,
     "metadata": {},
     "output_type": "execute_result"
    },
    {
     "data": {
      "image/png": "[encoded data removed]",
      "text/plain": [
       "<Figure size 432x288 with 1 Axes>"
      ]
     },
     "metadata": {
      "needs_background": "light"
     },
     "output_type": "display_data"
    }
   ],
   "source": [
    "xs = [p for p in range(0, 100)]\n",
    "ys = [1 - probability_in_range(p-3, p+3, p=p/100) for p in xs]\n",
    "\n",
    "sb.barplot(x=xs, y=ys)"
   ]
  },
  {
   "cell_type": "code",
   "execution_count": 3,
   "metadata": {},
   "outputs": [
    {
     "data": {
      "text/plain": [
       "0.8889012804848987"
      ]
     },
     "execution_count": 3,
     "metadata": {},
     "output_type": "execute_result"
    }
   ],
   "source": [
    "def probability_of_result(p=0.2, q=None, epsilon=0.005, N=1000):\n",
    "    if q is None:\n",
    "        q = p\n",
    "    \n",
    "    Q = lambda l: scipy.special.binom(N, l) * p ** l * (1-p) ** (N - l)\n",
    "    \n",
    "    l_min = math.floor(N * (q - epsilon))\n",
    "    l_max = math.floor(N * (q + epsilon))\n",
    "    \n",
    "    Qs = [Q(l) for l in range(l_min, l_max)]\n",
    "    \n",
    "    return np.sum(Qs)\n",
    "\n",
    "probability_of_result(p=0.01)\n",
    "    "
   ]
  },
  {
   "cell_type": "code",
   "execution_count": 4,
   "metadata": {},
   "outputs": [
    {
     "name": "stdout",
     "output_type": "stream",
     "text": [
      "checking is probability 1.0000000000006861\n",
      "expectation 0.20050000000012586\n",
      "standard deviation 0.012980754985785296\n"
     ]
    }
   ],
   "source": [
    "def evaluate(ll, p=0.2):\n",
    "    rr = np.arange(0, 1.01, 0.01)\n",
    "    return np.sum([ll(qval) * probability_of_result(p=p, q=qval) for qval in rr])\n",
    "    \n",
    "    \n",
    "print(\"checking is probability\", evaluate(lambda x: 1))\n",
    "print(\"expectation\", evaluate(lambda x: x))\n",
    "print(\"standard deviation\", math.sqrt(evaluate(lambda x: (x - 0.2)**2)))\n"
   ]
  },
  {
   "cell_type": "code",
   "execution_count": 20,
   "metadata": {},
   "outputs": [
    {
     "data": {
      "text/plain": [
       "<matplotlib.axes._subplots.AxesSubplot at 0x7fbb3b8f99e8>"
      ]
     },
     "execution_count": 20,
     "metadata": {},
     "output_type": "execute_result"
    },
    {
     "data": {
      "image/png": "[encoded data removed]",
      "text/plain": [
       "<Figure size 432x288 with 1 Axes>"
      ]
     },
     "metadata": {
      "needs_background": "light"
     },
     "output_type": "display_data"
    }
   ],
   "source": [
    "rr = [x/100 for x in range(15, 26)]\n",
    "prr=[probability_of_result(q=qval) for qval in rr]\n",
    "sb.barplot(y=prr, x=rr)"
   ]
  }
 ],
 "metadata": {
  "kernelspec": {
   "display_name": "Python 3",
   "language": "python",
   "name": "python3"
  },
  "language_info": {
   "codemirror_mode": {
    "name": "ipython",
    "version": 3
   },
   "file_extension": ".py",
   "mimetype": "text/x-python",
   "name": "python",
   "nbconvert_exporter": "python",
   "pygments_lexer": "ipython3",
   "version": "3.7.5"
  }
 },
 "nbformat": 4,
 "nbformat_minor": 2
}
