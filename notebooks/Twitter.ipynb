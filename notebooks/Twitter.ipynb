{
 "cells": [
  {
   "cell_type": "code",
   "execution_count": 1,
   "metadata": {},
   "outputs": [],
   "source": [
    "import tweepy\n",
    "import os\n",
    "\n",
    "auth= tweepy.OAuthHandler(os.environ['TWITTER_API_KEY'], os.environ['TWITTER_API_SECRET_KEY'])"
   ]
  },
  {
   "cell_type": "code",
   "execution_count": 17,
   "metadata": {},
   "outputs": [
    {
     "name": "stdout",
     "output_type": "stream",
     "text": [
      "https://api.twitter.com/oauth/authorize?oauth_token=uJnQzQAAAAAAd2SDAAABb3bL08E\n"
     ]
    }
   ],
   "source": [
    "redirect_url = auth.get_authorization_url()\n",
    "\n",
    "print(redirect_url)"
   ]
  },
  {
   "cell_type": "code",
   "execution_count": 2,
   "metadata": {},
   "outputs": [],
   "source": [
    "auth.access_token = '1213804017702162432-jJ7z4Qpe3mQtdfMwflWBBYpAq9hUBf'\n",
    "auth.access_token_secret = 'ZiiHqXOfNqP5q1ldz2FXj3cqCkk9oauw6eHkHYKdvGzSh'\n"
   ]
  },
  {
   "cell_type": "code",
   "execution_count": 11,
   "metadata": {},
   "outputs": [
    {
     "data": {
      "text/plain": [
       "['TWITTER_API_SECRET_KEY',\n",
       " 'TERM',\n",
       " 'TWITTER_API_KEY',\n",
       " 'TWITTER_ACCESS_TOKEN',\n",
       " 'TWITTER_ACCESS_TOKEN_SECRET']"
      ]
     },
     "execution_count": 11,
     "metadata": {},
     "output_type": "execute_result"
    }
   ],
   "source": [
    "[k for k in os.environ.keys() if k[0] == 'T']"
   ]
  },
  {
   "cell_type": "code",
   "execution_count": 18,
   "metadata": {
    "scrolled": true
   },
   "outputs": [
    {
     "data": {
      "text/plain": [
       "('1213804017702162432-jJ7z4Qpe3mQtdfMwflWBBYpAq9hUBf',\n",
       " 'ZiiHqXOfNqP5q1ldz2FXj3cqCkk9oauw6eHkHYKdvGzSh')"
      ]
     },
     "execution_count": 18,
     "metadata": {},
     "output_type": "execute_result"
    }
   ],
   "source": [
    "auth.get_access_token('5055688')"
   ]
  },
  {
   "cell_type": "code",
   "execution_count": 3,
   "metadata": {},
   "outputs": [],
   "source": [
    "api = tweepy.API(auth)"
   ]
  },
  {
   "cell_type": "code",
   "execution_count": 7,
   "metadata": {},
   "outputs": [],
   "source": [
    "tweets = api.user_timeline('@wahlrecht_de')"
   ]
  },
  {
   "cell_type": "code",
   "execution_count": 14,
   "metadata": {},
   "outputs": [
    {
     "name": "stdout",
     "output_type": "stream",
     "text": [
      "['__class__', '__delattr__', '__dict__', '__dir__', '__doc__', '__eq__', '__format__', '__ge__', '__getattribute__', '__getstate__', '__gt__', '__hash__', '__init__', '__init_subclass__', '__le__', '__lt__', '__module__', '__ne__', '__new__', '__reduce__', '__reduce_ex__', '__repr__', '__setattr__', '__sizeof__', '__str__', '__subclasshook__', '__weakref__', '_api', '_json', 'author', 'contributors', 'coordinates', 'created_at', 'destroy', 'entities', 'favorite', 'favorite_count', 'favorited', 'geo', 'id', 'id_str', 'in_reply_to_screen_name', 'in_reply_to_status_id', 'in_reply_to_status_id_str', 'in_reply_to_user_id', 'in_reply_to_user_id_str', 'is_quote_status', 'lang', 'parse', 'parse_list', 'place', 'possibly_sensitive', 'retweet', 'retweet_count', 'retweeted', 'retweets', 'source', 'source_url', 'text', 'truncated', 'user']\n",
      "@abendblatt Zum Vergleich: Sonntagsfrage zur Bundestagswahl in Hamburg • Forsa / Hamburger Abendblatt: GRÜNE 29 % |… https://t.co/lQTJbYsfa6\n",
      "@abendblatt Zum Vergleich: Sonntagsfrage zur Bundestagswahl in Hamburg • Forsa / Hamburger Abendblatt: GRÜNE 29 % |… https://t.co/lQTJbYsfa6 \n",
      "\n",
      "@buergerschaftHH Nicht zur #Bürgerschaftswahl in Hamburg zugelassen wurde die Landesliste der Friedenspartei. Grund… https://t.co/VQXgi1W0d3 \n",
      "\n",
      "Sonntagsfrage zur Bürgerschaftswahl in Hamburg • Forsa für das Hamburger Abendblatt: SPD 29 % | GRÜNE 26 % | CDU 16… https://t.co/cfLGmkg9s4 \n",
      "\n",
      "Hamburg • Der #Landeswahlausschuss hat 15 Landeslisten zur Bürgerschaftswahl am 23. Februar 2020 zugelassen\n",
      "• zum V… https://t.co/7rTBm8THJl \n",
      "\n",
      "@multi_massive Uns ist keine Aufschlüsselung bekannt. \n",
      "\n",
      "Sonntagsfrage GMS zur Bundestagswahl • CDU/CSU 28 % | GRÜNE 21 % | AfD 14 % | SPD 13 % | FDP 9 % | DIE LINKE 8 % |… https://t.co/KdgTyvXYm3 \n",
      "\n",
      "Sonntagsfrage zur Landtagswahl in Bayern (#ltwby) • Weitere Aufschlüsselung der Sonstigen: …, Bayernpartei 1 %, Son… https://t.co/Utx4PXJij5 \n",
      "\n",
      "@SuperL315 Und vielen Dank für den Hinweis! \n",
      "\n",
      "@SuperL315 @Bayernpartei Die weitere Aufschlüsselung der Sonstigen mit Ausweisung der @Bayernpartei in der Projekti… https://t.co/CdPWMCk2gI \n",
      "\n",
      "Sonntagsfrage zur Landtagswahl in Bayern (#ltwby) • GMS für SAT.1 Bayern: CSU 38 % | GRÜNE 20 % | FREIE WÄHLER 10 %… https://t.co/n4lF6ayrRH \n",
      "\n",
      "@watch_union @EuropeanBerlin Die Grafik stimmt, die Tabellen sind berichtigt, danke für den Hinweis! \n",
      "\n",
      "@DemokratieVtdg Die Grafik ist korrekt, die Tabellen mittlerweile auch. Danke für den Hinweis! \n",
      "\n",
      "Sonntagsfrage zur Abgeordnetenhauswahl in Berlin (#aghw) • INSA/BILD: GRÜNE 23 % | DIE LINKE 19 % | CDU 18 % | SPD… https://t.co/qVyZgy6Wxq \n",
      "\n",
      "@D_Herrmann @RichterHedwig Das passive Wahlalter bei der #ltwhe in Hessen wurde erst 2018 von 21 auf 18 gesenkt: https://t.co/kY6Mjsjb5u \n",
      "\n",
      "Bundestagswahlrecht • Unionsfraktionschef Brinkhaus im Interview zur #Wahlrechtsreform: „Jeder und jede Partei muss… https://t.co/Au3x1c2itL \n",
      "\n",
      "Bundestagswahlrecht • Bereits im Frühjahr dieses Jahres ist ein Vorschlag von @guenterkrings (CDU) für ein… https://t.co/7j1lQRcapS \n",
      "\n",
      "Bundestagswahlrecht • #Wahlrechtsreform: 24 Abgeordnete der CDU/CSU-Bundestagsfraktion werben bei ihrem Fraktionsvo… https://t.co/6qhLZ1OaTu \n",
      "\n",
      "Zum Vergleich: Sonntagsfrage zur Bundestagswahl in Berlin • Forsa / Berliner Zeitung: GRÜNE 24 % | CDU 21 % | DIE L… https://t.co/PW2BGNUqWV \n",
      "\n",
      "Sonntagsfrage zur Abgeordnetenhauswahl in Berlin (#aghw) • Forsa / Berliner Zeitung: GRÜNE 22 % | DIE LINKE 19 % |… https://t.co/TSo3SWFRmc \n",
      "\n",
      "Sonntagsfrage zur Landtagswahl in Hessen • INSA für BILD: CDU 26 % | GRÜNE 23 % | SPD 16 % | AfD 13 % | DIE LINKE 9… https://t.co/aJp4DGzrK5 \n",
      "\n"
     ]
    }
   ],
   "source": [
    "print(dir(tweets[0]))\n",
    "print(tweets[0].text)\n",
    "for t in tweets:\n",
    "    print(t.text, \"\\n\")"
   ]
  },
  {
   "cell_type": "code",
   "execution_count": 21,
   "metadata": {},
   "outputs": [
    {
     "data": {
      "text/plain": [
       "Status(_api=<tweepy.api.API object at 0x7ff5e8d0aa58>, _json={'created_at': 'Sun Jan 05 17:46:35 +0000 2020', 'id': 1213879481183744000, 'id_str': '1213879481183744000', 'text': 'https://t.co/7df2R43VVB', 'truncated': False, 'entities': {'hashtags': [], 'symbols': [], 'user_mentions': [], 'urls': [], 'media': [{'id': 1213879479770271744, 'id_str': '1213879479770271744', 'indices': [0, 23], 'media_url': 'http://pbs.twimg.com/media/ENiQ9JfX0AAWpzX.png', 'media_url_https': 'https://pbs.twimg.com/media/ENiQ9JfX0AAWpzX.png', 'url': 'https://t.co/7df2R43VVB', 'display_url': 'pic.twitter.com/7df2R43VVB', 'expanded_url': 'https://twitter.com/PollsGermany/status/1213879481183744000/photo/1', 'type': 'photo', 'sizes': {'large': {'w': 640, 'h': 480, 'resize': 'fit'}, 'small': {'w': 640, 'h': 480, 'resize': 'fit'}, 'medium': {'w': 640, 'h': 480, 'resize': 'fit'}, 'thumb': {'w': 150, 'h': 150, 'resize': 'crop'}}, 'features': {}}]}, 'extended_entities': {'media': [{'id': 1213879479770271744, 'id_str': '1213879479770271744', 'indices': [0, 23], 'media_url': 'http://pbs.twimg.com/media/ENiQ9JfX0AAWpzX.png', 'media_url_https': 'https://pbs.twimg.com/media/ENiQ9JfX0AAWpzX.png', 'url': 'https://t.co/7df2R43VVB', 'display_url': 'pic.twitter.com/7df2R43VVB', 'expanded_url': 'https://twitter.com/PollsGermany/status/1213879481183744000/photo/1', 'type': 'photo', 'sizes': {'large': {'w': 640, 'h': 480, 'resize': 'fit'}, 'small': {'w': 640, 'h': 480, 'resize': 'fit'}, 'medium': {'w': 640, 'h': 480, 'resize': 'fit'}, 'thumb': {'w': 150, 'h': 150, 'resize': 'crop'}}, 'features': {}}]}, 'source': '<a href=\"http://yadayada.com\" rel=\"nofollow\">Playing  around. YAY!</a>', 'in_reply_to_status_id': None, 'in_reply_to_status_id_str': None, 'in_reply_to_user_id': None, 'in_reply_to_user_id_str': None, 'in_reply_to_screen_name': None, 'user': {'id': 1213804017702162432, 'id_str': '1213804017702162432', 'name': 'GermanyPolls', 'screen_name': 'PollsGermany', 'location': '', 'description': '', 'url': None, 'entities': {'description': {'urls': []}}, 'protected': False, 'followers_count': 0, 'friends_count': 0, 'listed_count': 0, 'created_at': 'Sun Jan 05 12:47:31 +0000 2020', 'favourites_count': 0, 'utc_offset': None, 'time_zone': None, 'geo_enabled': False, 'verified': False, 'statuses_count': 3, 'lang': None, 'contributors_enabled': False, 'is_translator': False, 'is_translation_enabled': False, 'profile_background_color': 'F5F8FA', 'profile_background_image_url': None, 'profile_background_image_url_https': None, 'profile_background_tile': False, 'profile_image_url': 'http://abs.twimg.com/sticky/default_profile_images/default_profile_normal.png', 'profile_image_url_https': 'https://abs.twimg.com/sticky/default_profile_images/default_profile_normal.png', 'profile_link_color': '1DA1F2', 'profile_sidebar_border_color': 'C0DEED', 'profile_sidebar_fill_color': 'DDEEF6', 'profile_text_color': '333333', 'profile_use_background_image': True, 'has_extended_profile': False, 'default_profile': True, 'default_profile_image': True, 'can_media_tag': True, 'followed_by': False, 'following': False, 'follow_request_sent': False, 'notifications': False, 'translator_type': 'none'}, 'geo': None, 'coordinates': None, 'place': None, 'contributors': None, 'is_quote_status': False, 'retweet_count': 0, 'favorite_count': 0, 'favorited': False, 'retweeted': False, 'possibly_sensitive': False, 'lang': 'und'}, created_at=datetime.datetime(2020, 1, 5, 17, 46, 35), id=1213879481183744000, id_str='1213879481183744000', text='https://t.co/7df2R43VVB', truncated=False, entities={'hashtags': [], 'symbols': [], 'user_mentions': [], 'urls': [], 'media': [{'id': 1213879479770271744, 'id_str': '1213879479770271744', 'indices': [0, 23], 'media_url': 'http://pbs.twimg.com/media/ENiQ9JfX0AAWpzX.png', 'media_url_https': 'https://pbs.twimg.com/media/ENiQ9JfX0AAWpzX.png', 'url': 'https://t.co/7df2R43VVB', 'display_url': 'pic.twitter.com/7df2R43VVB', 'expanded_url': 'https://twitter.com/PollsGermany/status/1213879481183744000/photo/1', 'type': 'photo', 'sizes': {'large': {'w': 640, 'h': 480, 'resize': 'fit'}, 'small': {'w': 640, 'h': 480, 'resize': 'fit'}, 'medium': {'w': 640, 'h': 480, 'resize': 'fit'}, 'thumb': {'w': 150, 'h': 150, 'resize': 'crop'}}, 'features': {}}]}, extended_entities={'media': [{'id': 1213879479770271744, 'id_str': '1213879479770271744', 'indices': [0, 23], 'media_url': 'http://pbs.twimg.com/media/ENiQ9JfX0AAWpzX.png', 'media_url_https': 'https://pbs.twimg.com/media/ENiQ9JfX0AAWpzX.png', 'url': 'https://t.co/7df2R43VVB', 'display_url': 'pic.twitter.com/7df2R43VVB', 'expanded_url': 'https://twitter.com/PollsGermany/status/1213879481183744000/photo/1', 'type': 'photo', 'sizes': {'large': {'w': 640, 'h': 480, 'resize': 'fit'}, 'small': {'w': 640, 'h': 480, 'resize': 'fit'}, 'medium': {'w': 640, 'h': 480, 'resize': 'fit'}, 'thumb': {'w': 150, 'h': 150, 'resize': 'crop'}}, 'features': {}}]}, source='Playing  around. YAY!', source_url='http://yadayada.com', in_reply_to_status_id=None, in_reply_to_status_id_str=None, in_reply_to_user_id=None, in_reply_to_user_id_str=None, in_reply_to_screen_name=None, author=User(_api=<tweepy.api.API object at 0x7ff5e8d0aa58>, _json={'id': 1213804017702162432, 'id_str': '1213804017702162432', 'name': 'GermanyPolls', 'screen_name': 'PollsGermany', 'location': '', 'description': '', 'url': None, 'entities': {'description': {'urls': []}}, 'protected': False, 'followers_count': 0, 'friends_count': 0, 'listed_count': 0, 'created_at': 'Sun Jan 05 12:47:31 +0000 2020', 'favourites_count': 0, 'utc_offset': None, 'time_zone': None, 'geo_enabled': False, 'verified': False, 'statuses_count': 3, 'lang': None, 'contributors_enabled': False, 'is_translator': False, 'is_translation_enabled': False, 'profile_background_color': 'F5F8FA', 'profile_background_image_url': None, 'profile_background_image_url_https': None, 'profile_background_tile': False, 'profile_image_url': 'http://abs.twimg.com/sticky/default_profile_images/default_profile_normal.png', 'profile_image_url_https': 'https://abs.twimg.com/sticky/default_profile_images/default_profile_normal.png', 'profile_link_color': '1DA1F2', 'profile_sidebar_border_color': 'C0DEED', 'profile_sidebar_fill_color': 'DDEEF6', 'profile_text_color': '333333', 'profile_use_background_image': True, 'has_extended_profile': False, 'default_profile': True, 'default_profile_image': True, 'can_media_tag': True, 'followed_by': False, 'following': False, 'follow_request_sent': False, 'notifications': False, 'translator_type': 'none'}, id=1213804017702162432, id_str='1213804017702162432', name='GermanyPolls', screen_name='PollsGermany', location='', description='', url=None, entities={'description': {'urls': []}}, protected=False, followers_count=0, friends_count=0, listed_count=0, created_at=datetime.datetime(2020, 1, 5, 12, 47, 31), favourites_count=0, utc_offset=None, time_zone=None, geo_enabled=False, verified=False, statuses_count=3, lang=None, contributors_enabled=False, is_translator=False, is_translation_enabled=False, profile_background_color='F5F8FA', profile_background_image_url=None, profile_background_image_url_https=None, profile_background_tile=False, profile_image_url='http://abs.twimg.com/sticky/default_profile_images/default_profile_normal.png', profile_image_url_https='https://abs.twimg.com/sticky/default_profile_images/default_profile_normal.png', profile_link_color='1DA1F2', profile_sidebar_border_color='C0DEED', profile_sidebar_fill_color='DDEEF6', profile_text_color='333333', profile_use_background_image=True, has_extended_profile=False, default_profile=True, default_profile_image=True, can_media_tag=True, followed_by=False, following=False, follow_request_sent=False, notifications=False, translator_type='none'), user=User(_api=<tweepy.api.API object at 0x7ff5e8d0aa58>, _json={'id': 1213804017702162432, 'id_str': '1213804017702162432', 'name': 'GermanyPolls', 'screen_name': 'PollsGermany', 'location': '', 'description': '', 'url': None, 'entities': {'description': {'urls': []}}, 'protected': False, 'followers_count': 0, 'friends_count': 0, 'listed_count': 0, 'created_at': 'Sun Jan 05 12:47:31 +0000 2020', 'favourites_count': 0, 'utc_offset': None, 'time_zone': None, 'geo_enabled': False, 'verified': False, 'statuses_count': 3, 'lang': None, 'contributors_enabled': False, 'is_translator': False, 'is_translation_enabled': False, 'profile_background_color': 'F5F8FA', 'profile_background_image_url': None, 'profile_background_image_url_https': None, 'profile_background_tile': False, 'profile_image_url': 'http://abs.twimg.com/sticky/default_profile_images/default_profile_normal.png', 'profile_image_url_https': 'https://abs.twimg.com/sticky/default_profile_images/default_profile_normal.png', 'profile_link_color': '1DA1F2', 'profile_sidebar_border_color': 'C0DEED', 'profile_sidebar_fill_color': 'DDEEF6', 'profile_text_color': '333333', 'profile_use_background_image': True, 'has_extended_profile': False, 'default_profile': True, 'default_profile_image': True, 'can_media_tag': True, 'followed_by': False, 'following': False, 'follow_request_sent': False, 'notifications': False, 'translator_type': 'none'}, id=1213804017702162432, id_str='1213804017702162432', name='GermanyPolls', screen_name='PollsGermany', location='', description='', url=None, entities={'description': {'urls': []}}, protected=False, followers_count=0, friends_count=0, listed_count=0, created_at=datetime.datetime(2020, 1, 5, 12, 47, 31), favourites_count=0, utc_offset=None, time_zone=None, geo_enabled=False, verified=False, statuses_count=3, lang=None, contributors_enabled=False, is_translator=False, is_translation_enabled=False, profile_background_color='F5F8FA', profile_background_image_url=None, profile_background_image_url_https=None, profile_background_tile=False, profile_image_url='http://abs.twimg.com/sticky/default_profile_images/default_profile_normal.png', profile_image_url_https='https://abs.twimg.com/sticky/default_profile_images/default_profile_normal.png', profile_link_color='1DA1F2', profile_sidebar_border_color='C0DEED', profile_sidebar_fill_color='DDEEF6', profile_text_color='333333', profile_use_background_image=True, has_extended_profile=False, default_profile=True, default_profile_image=True, can_media_tag=True, followed_by=False, following=False, follow_request_sent=False, notifications=False, translator_type='none'), geo=None, coordinates=None, place=None, contributors=None, is_quote_status=False, retweet_count=0, favorite_count=0, favorited=False, retweeted=False, possibly_sensitive=False, lang='und')"
      ]
     },
     "execution_count": 21,
     "metadata": {},
     "output_type": "execute_result"
    }
   ],
   "source": [
    "api.update_with_media('germany.png')"
   ]
  }
 ],
 "metadata": {
  "kernelspec": {
   "display_name": "Python 3",
   "language": "python",
   "name": "python3"
  },
  "language_info": {
   "codemirror_mode": {
    "name": "ipython",
    "version": 3
   },
   "file_extension": ".py",
   "mimetype": "text/x-python",
   "name": "python",
   "nbconvert_exporter": "python",
   "pygments_lexer": "ipython3",
   "version": "3.6.8"
  }
 },
 "nbformat": 4,
 "nbformat_minor": 2
}
